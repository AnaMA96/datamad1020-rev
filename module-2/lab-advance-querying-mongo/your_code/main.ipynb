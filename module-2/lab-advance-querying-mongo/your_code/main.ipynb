{
 "cells": [
  {
   "cell_type": "markdown",
   "metadata": {},
   "source": [
    "# Advanced Querying Mongo"
   ]
  },
  {
   "cell_type": "markdown",
   "metadata": {},
   "source": [
    "Importing libraries and setting up connection"
   ]
  },
  {
   "cell_type": "code",
   "execution_count": 73,
   "metadata": {},
   "outputs": [],
   "source": [
    "from pymongo import MongoClient\n",
    "client = MongoClient(\"localhost:27017\")"
   ]
  },
  {
   "cell_type": "code",
   "execution_count": 74,
   "metadata": {},
   "outputs": [],
   "source": [
    "collection = client.get_database('companies').get_collection('companies')"
   ]
  },
  {
   "cell_type": "markdown",
   "metadata": {},
   "source": [
    "### 1. All the companies whose name match 'Babelgum'. Retrieve only their `name` field."
   ]
  },
  {
   "cell_type": "code",
   "execution_count": 36,
   "metadata": {},
   "outputs": [
    {
     "data": {
      "text/plain": [
       "[{'name': 'Babelgum'}]"
      ]
     },
     "execution_count": 36,
     "metadata": {},
     "output_type": "execute_result"
    }
   ],
   "source": [
    "list(collection.find({'name':'Babelgum'},{'name':1, '_id':0}))"
   ]
  },
  {
   "cell_type": "markdown",
   "metadata": {},
   "source": [
    "### 2. All the companies that have more than 5000 employees. Limit the search to 20 companies and sort them by **number of employees**."
   ]
  },
  {
   "cell_type": "code",
   "execution_count": 38,
   "metadata": {},
   "outputs": [],
   "source": [
    "big_companies =list(collection.find({'number_of_employees':{'$gt':5000}},{'name':1, 'number_of_employees':1, '_id':0}).limit(20).sort([('number_of_employees',-1)]))"
   ]
  },
  {
   "cell_type": "code",
   "execution_count": 39,
   "metadata": {},
   "outputs": [
    {
     "data": {
      "text/plain": [
       "[{'name': 'Siemens', 'number_of_employees': 405000},\n",
       " {'name': 'IBM', 'number_of_employees': 388000},\n",
       " {'name': 'Toyota', 'number_of_employees': 320000},\n",
       " {'name': 'PayPal', 'number_of_employees': 300000},\n",
       " {'name': 'Nippon Telegraph and Telephone Corporation',\n",
       "  'number_of_employees': 227000}]"
      ]
     },
     "execution_count": 39,
     "metadata": {},
     "output_type": "execute_result"
    }
   ],
   "source": [
    "big_companies[0:5]"
   ]
  },
  {
   "cell_type": "markdown",
   "metadata": {},
   "source": [
    "### 3. All the companies founded between 2000 and 2005, both years included. Retrieve only the `name` and `founded_year` fields."
   ]
  },
  {
   "cell_type": "code",
   "execution_count": 43,
   "metadata": {},
   "outputs": [
    {
     "data": {
      "text/plain": [
       "[{'name': 'Omnidrive', 'founded_year': 2005},\n",
       " {'name': 'Wetpaint', 'founded_year': 2005},\n",
       " {'name': 'Zoho', 'founded_year': 2005},\n",
       " {'name': 'Gizmoz', 'founded_year': 2003},\n",
       " {'name': 'Digg', 'founded_year': 2004}]"
      ]
     },
     "execution_count": 43,
     "metadata": {},
     "output_type": "execute_result"
    }
   ],
   "source": [
    "comp_year = list(collection.find({'founded_year': {'$gte':2000, '$lte': 2005}}, {'name':1, 'founded_year':1, '_id':0}\n",
    "))\n",
    "comp_year[0:5]"
   ]
  },
  {
   "cell_type": "markdown",
   "metadata": {},
   "source": [
    "### 4. All the companies that had a Valuation Amount of more than 100.000.000 and have been founded before 2010. Retrieve only the `name` and `ipo` fields."
   ]
  },
  {
   "cell_type": "code",
   "execution_count": 45,
   "metadata": {},
   "outputs": [
    {
     "data": {
      "text/plain": [
       "[{'name': 'Twitter',\n",
       "  'ipo': {'valuation_amount': 18100000000,\n",
       "   'valuation_currency_code': 'USD',\n",
       "   'pub_year': 2013,\n",
       "   'pub_month': 11,\n",
       "   'pub_day': 7,\n",
       "   'stock_symbol': 'NYSE:TWTR'}},\n",
       " {'name': 'Facebook',\n",
       "  'ipo': {'valuation_amount': 104000000000,\n",
       "   'valuation_currency_code': 'USD',\n",
       "   'pub_year': 2012,\n",
       "   'pub_month': 5,\n",
       "   'pub_day': 18,\n",
       "   'stock_symbol': 'NASDAQ:FB'}},\n",
       " {'name': 'Yelp',\n",
       "  'ipo': {'valuation_amount': 1300000000,\n",
       "   'valuation_currency_code': 'USD',\n",
       "   'pub_year': 2012,\n",
       "   'pub_month': 3,\n",
       "   'pub_day': 2,\n",
       "   'stock_symbol': 'NYSE:YELP'}}]"
      ]
     },
     "execution_count": 45,
     "metadata": {},
     "output_type": "execute_result"
    }
   ],
   "source": [
    "val_and_found = list(collection.find({'ipo.valuation_amount': {'$gt':100000000}, 'founded_year':{'$lt': 2010}},{'name':1, 'ipo':1, '_id':0}))\n",
    "val_and_found[0:3]"
   ]
  },
  {
   "cell_type": "markdown",
   "metadata": {},
   "source": [
    "### 5. All the companies that have less than 1000 employees and have been founded before 2005. Order them by the number of employees and limit the search to 10 companies."
   ]
  },
  {
   "cell_type": "code",
   "execution_count": 46,
   "metadata": {},
   "outputs": [
    {
     "data": {
      "text/plain": [
       "[{'name': 'Infinera Corporation',\n",
       "  'number_of_employees': 974,\n",
       "  'founded_year': 2000},\n",
       " {'name': 'NorthPoint Communications Group',\n",
       "  'number_of_employees': 948,\n",
       "  'founded_year': 1997},\n",
       " {'name': '888 Holdings', 'number_of_employees': 931, 'founded_year': 1997},\n",
       " {'name': 'Forrester Research',\n",
       "  'number_of_employees': 903,\n",
       "  'founded_year': 1983},\n",
       " {'name': 'Webmetrics', 'number_of_employees': 900, 'founded_year': 1999}]"
      ]
     },
     "execution_count": 46,
     "metadata": {},
     "output_type": "execute_result"
    }
   ],
   "source": [
    "small_comp_found = list(collection.find({'number_of_employees': {'$lt':1000}, 'founded_year':{'$lt': 2005}}, {'name':1, 'number_of_employees':1,'founded_year':1, '_id':0}).sort([('number_of_employees',-1)]).limit(10))\n",
    "small_comp_found[0:5]"
   ]
  },
  {
   "cell_type": "markdown",
   "metadata": {},
   "source": [
    "### 6. All the companies that don't include the `partners` field."
   ]
  },
  {
   "cell_type": "code",
   "execution_count": 49,
   "metadata": {},
   "outputs": [
    {
     "data": {
      "text/plain": [
       "[]"
      ]
     },
     "execution_count": 49,
     "metadata": {},
     "output_type": "execute_result"
    }
   ],
   "source": [
    "partners_out = list(collection.find({'partners':{'$exists': False}}, {'name':1, '_id':0}))\n",
    "partners_out[0:5]"
   ]
  },
  {
   "cell_type": "markdown",
   "metadata": {},
   "source": [
    "### 7. All the companies that have a null type of value on the `category_code` field."
   ]
  },
  {
   "cell_type": "code",
   "execution_count": 50,
   "metadata": {},
   "outputs": [
    {
     "data": {
      "text/plain": [
       "[{'name': 'Collective', 'category_code': None},\n",
       " {'name': 'Snimmer', 'category_code': None},\n",
       " {'name': 'KoolIM', 'category_code': None},\n",
       " {'name': 'VidKing', 'category_code': None},\n",
       " {'name': 'Level9 Media', 'category_code': None}]"
      ]
     },
     "execution_count": 50,
     "metadata": {},
     "output_type": "execute_result"
    }
   ],
   "source": [
    "null_on_category_field = list(collection.find({'category_code': { '$type': 10 }}, {'name':1, 'category_code':1, '_id':0}))\n",
    "null_on_category_field[0:5]"
   ]
  },
  {
   "cell_type": "markdown",
   "metadata": {},
   "source": [
    "### 8. All the companies that have at least 100 employees but less than 1000. Retrieve only the `name` and `number of employees` fields."
   ]
  },
  {
   "cell_type": "code",
   "execution_count": 51,
   "metadata": {},
   "outputs": [
    {
     "data": {
      "text/plain": [
       "[{'name': 'AdventNet', 'number_of_employees': 600},\n",
       " {'name': 'AddThis', 'number_of_employees': 120},\n",
       " {'name': 'OpenX', 'number_of_employees': 305},\n",
       " {'name': 'LifeLock', 'number_of_employees': 644},\n",
       " {'name': 'Jajah', 'number_of_employees': 110}]"
      ]
     },
     "execution_count": 51,
     "metadata": {},
     "output_type": "execute_result"
    }
   ],
   "source": [
    "hundred_to_thousand_empl = list(collection.find({'number_of_employees': { '$gte': 100 , '$lt':1000}}, {'name':1, 'number_of_employees':1, '_id':0}))\n",
    "hundred_to_thousand_empl[0:5]"
   ]
  },
  {
   "cell_type": "markdown",
   "metadata": {},
   "source": [
    "### 9. Order all the companies by their IPO price in a descending order."
   ]
  },
  {
   "cell_type": "code",
   "execution_count": 53,
   "metadata": {},
   "outputs": [
    {
     "data": {
      "text/plain": [
       "[{'name': 'GREE',\n",
       "  'ipo': {'valuation_amount': 108960000000,\n",
       "   'valuation_currency_code': 'JPY',\n",
       "   'pub_year': 2008,\n",
       "   'pub_month': 12,\n",
       "   'pub_day': 17,\n",
       "   'stock_symbol': '3632'}},\n",
       " {'name': 'Facebook',\n",
       "  'ipo': {'valuation_amount': 104000000000,\n",
       "   'valuation_currency_code': 'USD',\n",
       "   'pub_year': 2012,\n",
       "   'pub_month': 5,\n",
       "   'pub_day': 18,\n",
       "   'stock_symbol': 'NASDAQ:FB'}},\n",
       " {'name': 'Amazon',\n",
       "  'ipo': {'valuation_amount': 100000000000,\n",
       "   'valuation_currency_code': 'USD',\n",
       "   'pub_year': 1997,\n",
       "   'pub_month': 5,\n",
       "   'pub_day': None,\n",
       "   'stock_symbol': 'NASDAQ:AMZN'}}]"
      ]
     },
     "execution_count": 53,
     "metadata": {},
     "output_type": "execute_result"
    }
   ],
   "source": [
    "IPO = list(collection.find({}, {'name':1, 'ipo':1, '_id':0}).sort([('ipo',-1)]))\n",
    "IPO[0:3]"
   ]
  },
  {
   "cell_type": "markdown",
   "metadata": {},
   "source": [
    "### 10. Retrieve the 10 companies with more employees, order by the `number of employees`"
   ]
  },
  {
   "cell_type": "code",
   "execution_count": 54,
   "metadata": {},
   "outputs": [
    {
     "data": {
      "text/plain": [
       "[{'name': 'Siemens', 'number_of_employees': 405000},\n",
       " {'name': 'IBM', 'number_of_employees': 388000},\n",
       " {'name': 'Toyota', 'number_of_employees': 320000},\n",
       " {'name': 'PayPal', 'number_of_employees': 300000},\n",
       " {'name': 'Nippon Telegraph and Telephone Corporation',\n",
       "  'number_of_employees': 227000}]"
      ]
     },
     "execution_count": 54,
     "metadata": {},
     "output_type": "execute_result"
    }
   ],
   "source": [
    "numb_of_empl = list(collection.find({}, {'name':1, 'number_of_employees':1, '_id':0}).sort([('number_of_employees',-1)]).limit(10))\n",
    "numb_of_empl[0:5]"
   ]
  },
  {
   "cell_type": "markdown",
   "metadata": {},
   "source": [
    "### 11. All the companies founded on the second semester of the year. Limit your search to 1000 companies."
   ]
  },
  {
   "cell_type": "code",
   "execution_count": 55,
   "metadata": {},
   "outputs": [
    {
     "data": {
      "text/plain": [
       "[{'name': 'Omnidrive', 'founded_month': 11},\n",
       " {'name': 'Wetpaint', 'founded_month': 10},\n",
       " {'name': 'Zoho', 'founded_month': 9},\n",
       " {'name': 'Digg', 'founded_month': 10},\n",
       " {'name': 'Joost', 'founded_month': 10}]"
      ]
     },
     "execution_count": 55,
     "metadata": {},
     "output_type": "execute_result"
    }
   ],
   "source": [
    "second_sem_companies = list(collection.find({'founded_month': {'$gt':6}}, {'name':1, 'founded_month':1, '_id':0}).limit(1000))\n",
    "second_sem_companies[0:5]"
   ]
  },
  {
   "cell_type": "markdown",
   "metadata": {},
   "source": [
    "### 12. All the companies founded before 2000 that have an acquisition amount of more than 10.000.00"
   ]
  },
  {
   "cell_type": "code",
   "execution_count": 56,
   "metadata": {},
   "outputs": [
    {
     "data": {
      "text/plain": [
       "[{'name': 'Postini',\n",
       "  'founded_year': 1999,\n",
       "  'acquisition': {'price_amount': 625000000}},\n",
       " {'name': 'SideStep',\n",
       "  'founded_year': 1999,\n",
       "  'acquisition': {'price_amount': 180000000}},\n",
       " {'name': 'Recipezaar',\n",
       "  'founded_year': 1999,\n",
       "  'acquisition': {'price_amount': 25000000}},\n",
       " {'name': 'Cyworld',\n",
       "  'founded_year': 1999,\n",
       "  'acquisition': {'price_amount': 7140000}},\n",
       " {'name': 'Snapfish',\n",
       "  'founded_year': 1999,\n",
       "  'acquisition': {'price_amount': 300000000}}]"
      ]
     },
     "execution_count": 56,
     "metadata": {},
     "output_type": "execute_result"
    }
   ],
   "source": [
    "comp_found_bf_2000 = list(collection.find({'founded_year': {'$lt':2000}, 'acquisition.price_amount': {'$gt':10000}},  {'name':1, 'founded_year':1,'acquisition.price_amount':1, '_id':0}))\n",
    "comp_found_bf_2000[0:5]"
   ]
  },
  {
   "cell_type": "markdown",
   "metadata": {},
   "source": [
    "### 13. All the companies that have been acquired after 2010, order by the acquisition amount, and retrieve only their `name` and `acquisition` field."
   ]
  },
  {
   "cell_type": "code",
   "execution_count": 59,
   "metadata": {},
   "outputs": [
    {
     "data": {
      "text/plain": [
       "[{'name': 'Geni',\n",
       "  'acquisition': {'price_amount': None,\n",
       "   'price_currency_code': 'USD',\n",
       "   'term_code': None,\n",
       "   'source_url': 'http://techcrunch.com/2012/11/28/all-in-the-family-myheritage-buys-former-yammer-stablemate-geni-com-raises-25m/',\n",
       "   'source_description': 'MyHeritage acquires Geni and $25M to build family tree of the whole world',\n",
       "   'acquired_year': 2012,\n",
       "   'acquired_month': 11,\n",
       "   'acquired_day': 28,\n",
       "   'acquiring_company': {'name': 'MyHeritage', 'permalink': 'myheritage'}}},\n",
       " {'name': 'Kyte',\n",
       "  'acquisition': {'price_amount': None,\n",
       "   'price_currency_code': 'USD',\n",
       "   'term_code': None,\n",
       "   'source_url': 'http://techcrunch.com/2011/01/31/exclusive-kit-digital-acquires-kickapps-kewego-and-kyte-for-77-2-million/',\n",
       "   'source_description': 'KIT digital Acquires KickApps, Kewego AND Kyte For $77.2 Million',\n",
       "   'acquired_year': 2011,\n",
       "   'acquired_month': 1,\n",
       "   'acquired_day': 31,\n",
       "   'acquiring_company': {'name': 'KIT digital', 'permalink': 'kit-digital'}}}]"
      ]
     },
     "execution_count": 59,
     "metadata": {},
     "output_type": "execute_result"
    }
   ],
   "source": [
    "acq_after_2010 = list(collection.find({'acquisition.acquired_year': {'$gt':2010}}, {'name':1, 'acquisition':1, '_id':0}).sort([('acquisition.price_amount', 1)]))\n",
    "acq_after_2010[0:2]"
   ]
  },
  {
   "cell_type": "markdown",
   "metadata": {},
   "source": [
    "### 14. Order the companies by their `founded year`, retrieving only their `name` and `founded year`."
   ]
  },
  {
   "cell_type": "code",
   "execution_count": 60,
   "metadata": {},
   "outputs": [
    {
     "data": {
      "text/plain": [
       "[{'name': 'Fixya', 'founded_year': 2013},\n",
       " {'name': 'Wamba', 'founded_year': 2013},\n",
       " {'name': 'Advaliant', 'founded_year': 2013},\n",
       " {'name': 'Fluc', 'founded_year': 2013},\n",
       " {'name': 'iBazar', 'founded_year': 2013}]"
      ]
     },
     "execution_count": 60,
     "metadata": {},
     "output_type": "execute_result"
    }
   ],
   "source": [
    "found_year = list(collection.find({},{'name':1, 'founded_year':1,'_id':0}).sort([('founded_year',-1)]))\n",
    "found_year[0:5]"
   ]
  },
  {
   "cell_type": "markdown",
   "metadata": {},
   "source": [
    "### 15. All the companies that have been founded on the first seven days of the month, including the seventh. Sort them by their `acquisition price` in a descending order. Limit the search to 10 documents."
   ]
  },
  {
   "cell_type": "code",
   "execution_count": 61,
   "metadata": {},
   "outputs": [
    {
     "data": {
      "text/plain": [
       "[{'name': 'Netscape',\n",
       "  'founded_day': 4,\n",
       "  'acquisition': {'price_amount': 4200000000}},\n",
       " {'name': 'PayPal',\n",
       "  'founded_day': 1,\n",
       "  'acquisition': {'price_amount': 1500000000}},\n",
       " {'name': 'Zappos',\n",
       "  'founded_day': 1,\n",
       "  'acquisition': {'price_amount': 1200000000}},\n",
       " {'name': 'Alibaba',\n",
       "  'founded_day': 1,\n",
       "  'acquisition': {'price_amount': 1000000000}},\n",
       " {'name': 'Postini',\n",
       "  'founded_day': 2,\n",
       "  'acquisition': {'price_amount': 625000000}}]"
      ]
     },
     "execution_count": 61,
     "metadata": {},
     "output_type": "execute_result"
    }
   ],
   "source": [
    "found_first_seven_days = list(collection.find({'founded_day': {'$lte':7}}, {'name':1, 'founded_day':1,'acquisition.price_amount':1, '_id':0}).sort([('acquisition.price_amount',-1)]))\n",
    "found_first_seven_days[0:5]"
   ]
  },
  {
   "cell_type": "markdown",
   "metadata": {},
   "source": [
    "### 16. All the companies on the 'web' `category` that have more than 4000 employees. Sort them by the amount of employees in ascending order."
   ]
  },
  {
   "cell_type": "code",
   "execution_count": 66,
   "metadata": {},
   "outputs": [
    {
     "data": {
      "text/plain": [
       "[{'name': 'Expedia', 'category_code': 'web', 'number_of_employees': 4400},\n",
       " {'name': 'AOL', 'category_code': 'web', 'number_of_employees': 8000},\n",
       " {'name': 'Webkinz', 'category_code': 'web', 'number_of_employees': 8657},\n",
       " {'name': 'Rakuten', 'category_code': 'web', 'number_of_employees': 10000},\n",
       " {'name': 'Los Angeles Times Media Group',\n",
       "  'category_code': 'web',\n",
       "  'number_of_employees': 10000}]"
      ]
     },
     "execution_count": 66,
     "metadata": {},
     "output_type": "execute_result"
    }
   ],
   "source": [
    "web_cat = list(collection.find({'category_code': 'web', 'number_of_employees': {'$gt':4000}}, {'name':1, 'category_code':1,'number_of_employees':1, '_id':0}).sort([('number_of_employees',1)]))\n",
    "web_cat[0:5]"
   ]
  },
  {
   "cell_type": "markdown",
   "metadata": {},
   "source": [
    "### 17. All the companies whose acquisition amount is more than 10.000.000, and currency is 'EUR'."
   ]
  },
  {
   "cell_type": "code",
   "execution_count": 67,
   "metadata": {},
   "outputs": [
    {
     "data": {
      "text/plain": [
       "[{'name': 'ZYB',\n",
       "  'acquisition': {'price_amount': 31500000, 'price_currency_code': 'EUR'}},\n",
       " {'name': 'Apertio',\n",
       "  'acquisition': {'price_amount': 140000000, 'price_currency_code': 'EUR'}},\n",
       " {'name': 'Greenfield Online',\n",
       "  'acquisition': {'price_amount': 40000000, 'price_currency_code': 'EUR'}},\n",
       " {'name': 'Webedia',\n",
       "  'acquisition': {'price_amount': 70000000, 'price_currency_code': 'EUR'}},\n",
       " {'name': 'Wayfinder',\n",
       "  'acquisition': {'price_amount': 24000000, 'price_currency_code': 'EUR'}}]"
      ]
     },
     "execution_count": 67,
     "metadata": {},
     "output_type": "execute_result"
    }
   ],
   "source": [
    "big_acq_amount = list(collection.find({'acquisition.price_currency_code': 'EUR', 'acquisition.price_amount': {'$gt':10000000}}, {'name':1, 'acquisition.price_currency_code':1,'acquisition.price_amount':1, '_id':0}))\n",
    "\n",
    "big_acq_amount[0:5]"
   ]
  },
  {
   "cell_type": "markdown",
   "metadata": {},
   "source": [
    "### 18. All the companies that have been acquired on the first trimester of the year. Limit the search to 10 companies, and retrieve only their `name` and `acquisition` fields."
   ]
  },
  {
   "cell_type": "code",
   "execution_count": 70,
   "metadata": {},
   "outputs": [
    {
     "data": {
      "text/plain": [
       "[{'name': 'Kyte',\n",
       "  'acquisition': {'price_amount': None,\n",
       "   'price_currency_code': 'USD',\n",
       "   'term_code': None,\n",
       "   'source_url': 'http://techcrunch.com/2011/01/31/exclusive-kit-digital-acquires-kickapps-kewego-and-kyte-for-77-2-million/',\n",
       "   'source_description': 'KIT digital Acquires KickApps, Kewego AND Kyte For $77.2 Million',\n",
       "   'acquired_year': 2011,\n",
       "   'acquired_month': 1,\n",
       "   'acquired_day': 31,\n",
       "   'acquiring_company': {'name': 'KIT digital', 'permalink': 'kit-digital'}}},\n",
       " {'name': 'NetRatings',\n",
       "  'acquisition': {'price_amount': 327000000,\n",
       "   'price_currency_code': 'USD',\n",
       "   'term_code': 'cash',\n",
       "   'source_url': 'http://login.vnuemedia.com/hr/login/login_subscribe.jsp?id=0oqDem1gYIfIclz9i2%2Ffqj5NxCp2AC5DPbVnyT2da8GyV2mXjasabE128n69OrmcAh52%2FGE3pSG%2F%0AEKRYD9vh9EhrJrxukmUzh532fSMTZXL42gwPB80UWVtF1NwJ5UZSM%2BCkLU1mpYBoHFgiH%2Fi0f6Ax%0A9yMIVxt47t%2BHamhEQ0nkOEK24L',\n",
       "   'source_description': 'Nielsen buys rest of NetRatings',\n",
       "   'acquired_year': 2007,\n",
       "   'acquired_month': 2,\n",
       "   'acquired_day': None,\n",
       "   'acquiring_company': {'name': 'Nielsen', 'permalink': 'nielsen'}}}]"
      ]
     },
     "execution_count": 70,
     "metadata": {},
     "output_type": "execute_result"
    }
   ],
   "source": [
    "acq_first_sem = list(collection.find({'acquisition.acquired_month': {'$lte':3}}, {'name':1, 'acquisition':1, '_id':0}).limit(10))\n",
    "acq_first_sem[0:2]"
   ]
  },
  {
   "cell_type": "markdown",
   "metadata": {},
   "source": [
    "# Bonus\n",
    "### 19. All the companies that have been founded between 2000 and 2010, but have not been acquired before 2011."
   ]
  },
  {
   "cell_type": "code",
   "execution_count": 71,
   "metadata": {},
   "outputs": [
    {
     "data": {
      "text/plain": [
       "[{'name': 'Geni',\n",
       "  'founded_year': 2006,\n",
       "  'acquisition': {'acquired_year': 2012}},\n",
       " {'name': 'Wetpaint',\n",
       "  'founded_year': 2005,\n",
       "  'acquisition': {'acquired_year': 2013}},\n",
       " {'name': 'Digg',\n",
       "  'founded_year': 2004,\n",
       "  'acquisition': {'acquired_year': 2012}},\n",
       " {'name': 'Kyte',\n",
       "  'founded_year': 2006,\n",
       "  'acquisition': {'acquired_year': 2011}},\n",
       " {'name': 'Jingle Networks',\n",
       "  'founded_year': 2005,\n",
       "  'acquisition': {'acquired_year': 2011}}]"
      ]
     },
     "execution_count": 71,
     "metadata": {},
     "output_type": "execute_result"
    }
   ],
   "source": [
    "two_thousand_and_ten = list(collection.find({'founded_year': {'$gte':2000, '$lte': 2010},'acquisition.acquired_year': {'$gte':2011}}, {'name':1, 'founded_year':1,'acquisition.acquired_year':1, '_id':0}))\n",
    "two_thousand_and_ten[0:5]"
   ]
  },
  {
   "cell_type": "markdown",
   "metadata": {},
   "source": [
    "### 20. All the companies that have been 'deadpooled' after the third year."
   ]
  },
  {
   "cell_type": "code",
   "execution_count": 72,
   "metadata": {},
   "outputs": [
    {
     "data": {
      "text/plain": [
       "[{'name': 'Omnidrive', 'Diff_year': 3},\n",
       " {'name': 'Babelgum', 'Diff_year': 6},\n",
       " {'name': 'Thoof', 'Diff_year': 7},\n",
       " {'name': 'Wesabe', 'Diff_year': 5},\n",
       " {'name': 'Jangl SMS', 'Diff_year': 3}]"
      ]
     },
     "execution_count": 72,
     "metadata": {},
     "output_type": "execute_result"
    }
   ],
   "source": [
    "deadpooled = list(collection.aggregate([{'$project':{'name':1,'_id':0,'Diff_year': { '$subtract': ['$deadpooled_year', '$founded_year']}}}, { \"$match\" : {\"Diff_year\" : { \"$gte\" : 3 } } }\n",
    "]))\n",
    "deadpooled[0:5]"
   ]
  },
  {
   "cell_type": "code",
   "execution_count": null,
   "metadata": {},
   "outputs": [],
   "source": []
  }
 ],
 "metadata": {
  "kernelspec": {
   "display_name": "Python 3",
   "language": "python",
   "name": "python3"
  },
  "language_info": {
   "codemirror_mode": {
    "name": "ipython",
    "version": 3
   },
   "file_extension": ".py",
   "mimetype": "text/x-python",
   "name": "python",
   "nbconvert_exporter": "python",
   "pygments_lexer": "ipython3",
   "version": "3.8.5"
  }
 },
 "nbformat": 4,
 "nbformat_minor": 2
}
