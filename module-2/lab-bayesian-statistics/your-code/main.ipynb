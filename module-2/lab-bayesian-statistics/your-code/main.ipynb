{
 "cells": [
  {
   "cell_type": "markdown",
   "metadata": {},
   "source": [
    "# Intro to Bayesian Statistics Lab\n",
    "\n",
    "Complete the following set of exercises to solidify your knowledge of Bayesian statistics and Bayesian data analysis."
   ]
  },
  {
   "cell_type": "code",
   "execution_count": 1,
   "metadata": {},
   "outputs": [],
   "source": [
    "import pandas as pd\n",
    "import numpy as np\n",
    "import matplotlib.pyplot as plt"
   ]
  },
  {
   "cell_type": "markdown",
   "metadata": {},
   "source": [
    "## 1. Cookie Problem\n",
    "Suppose we have two bowls of cookies. Bowl 1 contains 30 vanilla cookies and 10 chocolate cookies. Bowl 2 contains 20 of each. You randomly pick one cookie out of one of the bowls, and it is vanilla. Use Bayes Theorem to calculate the probability that the vanilla cookie you picked came from Bowl 1?"
   ]
  },
  {
   "cell_type": "code",
   "execution_count": 66,
   "metadata": {},
   "outputs": [],
   "source": [
    "def bayes_prob(pA, pB_A, pB):\n",
    "    return np.divide(np.multiply(pA, pB_A),pB)"
   ]
  },
  {
   "cell_type": "code",
   "execution_count": 68,
   "metadata": {
    "scrolled": true
   },
   "outputs": [
    {
     "name": "stdout",
     "output_type": "stream",
     "text": [
      "p(Vanilla|B1) = 0.6\n"
     ]
    }
   ],
   "source": [
    "'''\n",
    "Probabilidad Bowl 1 = B1\n",
    "Probabilidad Bowl 2 = B2\n",
    "\n",
    "p(B1|V) = (p(B1)*p(V|B1)) / p(V)\n",
    "\n",
    "p(B1): La probabilidad de elegir el B1 es 1/2 al indicarse que la decisión es random.  \n",
    "p(V|B1): La probabilidad de coger una galleta de vainilla del B1 es de 3/4. \n",
    "p(V): La probabilidad de coge runa galleta de vainilla de cualquier Bowl es de 50/80, es decir, 5/8 puesto que entre los dos bowls hay 50 galletas de vainilla frente a 30 de chocolate\n",
    "siendo igual la probabilidad de coger galletas de uno o de otro'''\n",
    "\n",
    "B1 = 1/2\n",
    "V_B1 = 3/4\n",
    "V = 5/8\n",
    "\n",
    "print(f'p(Vanilla|B1) = {bayes_prob(B1,V_B1,V)}')"
   ]
  },
  {
   "cell_type": "markdown",
   "metadata": {},
   "source": [
    "What is the probability that it came from Bowl 2?"
   ]
  },
  {
   "cell_type": "code",
   "execution_count": 18,
   "metadata": {},
   "outputs": [
    {
     "name": "stdout",
     "output_type": "stream",
     "text": [
      "p(Vanilla|B2) = 0.4\n"
     ]
    }
   ],
   "source": [
    "'''\n",
    "p(B2|V) = (p(B2)*p(V|B2)) / p(V)\n",
    "p(B2):  igual que la p de B1, al ser una elección random,  1/2.\n",
    "p(V|B2): La probabilidad de conseguir una galleta de vainilla del B2 es de 20/40, es decir, 2/4.\n",
    "p(V): La probabilidad de coger una galleta de vainilla de cualquier Bowl, la misma que antes, 5/8. \n",
    "'''\n",
    "B2 = 1/2\n",
    "V_B2 = 2/4\n",
    "V = 5/8\n",
    "\n",
    "print(f'p(Vanilla|B2) = {bayes_prob(B2,V_B2,V)}')\n",
    "\n"
   ]
  },
  {
   "cell_type": "code",
   "execution_count": 23,
   "metadata": {},
   "outputs": [
    {
     "data": {
      "text/plain": [
       "0.4"
      ]
     },
     "execution_count": 23,
     "metadata": {},
     "output_type": "execute_result"
    }
   ],
   "source": [
    "#Otro modo:\n",
    "(1 - pB1_V )\n",
    " #B2 = 1 - probabilidad de que sea de B1"
   ]
  },
  {
   "cell_type": "markdown",
   "metadata": {},
   "source": [
    "What if the cookie you had picked was chocolate? What are the probabilities that the chocolate cookie came from Bowl 1 and Bowl 2 respectively?"
   ]
  },
  {
   "cell_type": "code",
   "execution_count": 24,
   "metadata": {},
   "outputs": [
    {
     "name": "stdout",
     "output_type": "stream",
     "text": [
      "p(Chocolate|B1) = 0.3333333333333333\n",
      "p(Chocolate|B2) = 0.6666666666666666\n"
     ]
    }
   ],
   "source": [
    "pB1 = 1/2\n",
    "pch_B1 = 1/4\n",
    "pch = 3/8\n",
    "pB2 = 1/2\n",
    "pch_B2 = 2/4\n",
    "print(f'p(Chocolate|B1) = {bayes_prob(pB1,pch_B1,pch)}')\n",
    "\n",
    "print(f'p(Chocolate|B2) = {bayes_prob(pB2,pch_B2,pch)}')"
   ]
  },
  {
   "cell_type": "markdown",
   "metadata": {},
   "source": [
    "## 2. Candy Problem\n",
    "\n",
    "Suppose you have two bags of candies:\n",
    "\n",
    "- In Bag 1, the mix of colors is:\n",
    "    - Brown - 30%\n",
    "    - Yellow - 20%\n",
    "    - Red - 20%\n",
    "    - Green - 10%\n",
    "    - Orange - 10%\n",
    "    - Tan - 10%\n",
    "    \n",
    "- In Bag 2, the mix of colors is:\n",
    "    - Blue - 24%\n",
    "    - Green - 20%\n",
    "    - Orange - 16%\n",
    "    - Yellow - 14%\n",
    "    - Red - 13%\n",
    "    - Brown - 13%\n",
    "    \n",
    "Not knowing which bag is which, you randomly draw one candy from each bag. One is yellow and one is green. What is the probability that the yellow one came from the Bag 1?\n",
    "\n",
    "*Hint: For the likelihoods, you will need to multiply the probabilities of drawing yellow from one bag and green from the other bag and vice versa.*"
   ]
  },
  {
   "cell_type": "code",
   "execution_count": 32,
   "metadata": {},
   "outputs": [
    {
     "name": "stdout",
     "output_type": "stream",
     "text": [
      "p(Yellow|Bag1) = 0.7407407407407408\n"
     ]
    }
   ],
   "source": [
    "p_B1 =  [1/2, 1/2]\n",
    "p_y_B1 = [0.2*0.2,0.1*0.14]\n",
    "p_y = sum(np.multiply(p_B1,p_y_B1))\n",
    "\n",
    "print(f'p(Yellow|Bag1) = {bayes_prob(p_B1,p_y_B1,p_y)[0]}')"
   ]
  },
  {
   "cell_type": "markdown",
   "metadata": {},
   "source": [
    "What is the probability that the yellow candy came from Bag 2?"
   ]
  },
  {
   "cell_type": "code",
   "execution_count": 33,
   "metadata": {},
   "outputs": [
    {
     "name": "stdout",
     "output_type": "stream",
     "text": [
      "p(Yellow|Bag2) = 0.25925925925925924\n"
     ]
    }
   ],
   "source": [
    "p_B2 =  [1/2, 1/2]\n",
    "p_y_B2 = [0.2*0.2,0.1*0.14]\n",
    "\n",
    "print(f'p(Yellow|Bag2) = {bayes_prob(p_B1,p_y_B1,p_y)[1]}')\n"
   ]
  },
  {
   "cell_type": "markdown",
   "metadata": {},
   "source": [
    "What are the probabilities that the green one came from Bag 1 and Bag 2 respectively?"
   ]
  },
  {
   "cell_type": "markdown",
   "metadata": {},
   "source": [
    "### Bag 1 = (1- (p(Y|B1))= 0.259\n",
    "\n",
    "### Bag 2 = (1- (p(Y|B2))= 0.7407\n",
    "\n",
    "### Como podemos ver, las probabilidades son complementarias, la probabilidad de la complementaria de A es (1-pA).\n"
   ]
  },
  {
   "cell_type": "markdown",
   "metadata": {},
   "source": [
    "## 3. Monty Hall Problem\n",
    "\n",
    "Suppose you are a contestant on the popular game show *Let's Make a Deal*. The host of the show (Monty Hall) presents you with three doors - Door A, Door B, and Door C. He tells you that there is a sports car behind one of them and if you choose the correct one, you win the car!\n",
    "\n",
    "You select Door A, but then Monty makes things a little more interesting. He opens Door B to reveal that there is no sports car behind it and asks you if you would like to stick with your choice of Door A or switch your choice to Door C. Given this new information, what are the probabilities of you winning the car if you stick with Door A versus if you switch to Door C?"
   ]
  },
  {
   "cell_type": "markdown",
   "metadata": {},
   "source": [
    "**Doors=[1/3, 1/3, 1/3]**\n",
    "\n",
    "**Antes de elegir ninguna puerta, la probabilidad de haber escogido aquella tras la que se encuentra el coche, es de 1/3 (probabilidad de 1/3 por cada puerta).\n",
    "Después de que Monty, el presentador, descubra una de las puertas tras la queno está el coche, la probabilidad de que la que habíamos escogido, la puerta A, sea la puerta ganadora, sigue siendo de 1/3 (probabilidad de un 33,33%). Sin embargo,la probabilidad de que la última puerta, la C a la que nos dan la posibilidad de cambiar, sea la puerta ganadora, es de 2/3 (probabilidad de un 66,67%) puesto que ahora la probabilidad que antes se repartía entre las 3 puertas, ahora se reparte entre las dos.**\n",
    "\n",
    "**Tras este razonamiento queda claro que, en esta situación, si eligiésemos la puerta C tendríamos el doble de posibilidades de ganar el coche.**\n"
   ]
  },
  {
   "cell_type": "markdown",
   "metadata": {},
   "source": [
    "## 4. Bayesian Analysis \n",
    "\n",
    "Suppose you work for a landscaping company, and they want to advertise their service online. They create an ad and sit back waiting for the money to roll in. On the first day, the ad sends 100 visitors to the site and 14 of them sign up for landscaping services. Create a generative model to come up with the posterior distribution and produce a visualization of what the posterior distribution would look like given the observed data."
   ]
  },
  {
   "cell_type": "markdown",
   "metadata": {},
   "source": [
    "### Este apartado se ha resuelto a partir de [la maravillosa explicación de Yona](https://github.com/YonatanRA/datamex-0719/blob/master/semana5/lab-bayesian-statistics/your-code/Learning.ipynb)\n"
   ]
  },
  {
   "cell_type": "code",
   "execution_count": 58,
   "metadata": {},
   "outputs": [
    {
     "data": {
      "image/png": "[encoded data removed]",
      "text/plain": [
       "<Figure size 432x288 with 1 Axes>"
      ]
     },
     "metadata": {
      "needs_background": "light"
     },
     "output_type": "display_data"
    }
   ],
   "source": [
    "\n",
    "visits=100\n",
    "signed=14\n",
    "size=20000\n",
    "\n",
    "prior = pd.Series(np.random.uniform(0, 1, size))\n",
    "observed = 10\n",
    "\n",
    "#un modelo generativo que se extraerá aleatoriamente de nuestra distribución uniforme anterior simulará que 50 personas\n",
    "#acceden a nuestro sitio muchas veces y comrpobará cuántas veces obtenemos un resultado en línea con el\n",
    "#resultado que observamos.\n",
    "def generative_model(param):\n",
    "    result = np.random.binomial(50, param) #function that accepts a random probability parameter from our prior and then performs 50.\n",
    "    return result\n",
    "\n",
    "#creamos lista vacía para los resultados simulados y  la completamos agregando los resultados cuando cada valor en nuestra distribución \n",
    "#anterior se conecta a nuestro modelo generativo.\n",
    "sim_data = list()\n",
    "\n",
    "for p in prior:\n",
    "    sim_data.append(generative_model(p))\n",
    "    \n",
    "\n",
    "#Finalmente, llegaremos a nuestra distribución posterior seleccionando sólo los valores de nuestra distribución anterior.\n",
    "#distribución que generó instancias en las que el resultado simulado coincidió con nuestro resultado observado de 10 compras.\n",
    "\n",
    "posterior = prior[list(map(lambda x: x == observed, sim_data))]\n",
    "\n",
    "posterior.hist()\n",
    "plt.show()\n"
   ]
  },
  {
   "cell_type": "markdown",
   "metadata": {},
   "source": [
    "Produce a set of descriptive statistics for the posterior distribution."
   ]
  },
  {
   "cell_type": "code",
   "execution_count": 50,
   "metadata": {},
   "outputs": [
    {
     "name": "stdout",
     "output_type": "stream",
     "text": [
      "count    222.000000\n",
      "mean       0.146099\n",
      "std        0.033480\n",
      "min        0.072054\n",
      "25%        0.124322\n",
      "50%        0.142098\n",
      "75%        0.165444\n",
      "max        0.250492\n",
      "dtype: float64\n"
     ]
    }
   ],
   "source": [
    "print (post.describe())"
   ]
  },
  {
   "cell_type": "markdown",
   "metadata": {},
   "source": [
    "What is the 90% credible interval range?"
   ]
  },
  {
   "cell_type": "code",
   "execution_count": 52,
   "metadata": {},
   "outputs": [
    {
     "data": {
      "text/plain": [
       "array([0.12704406, 0.22504831])"
      ]
     },
     "execution_count": 52,
     "metadata": {},
     "output_type": "execute_result"
    }
   ],
   "source": [
    "np.quantile(posteriors,[0.25,0.975])"
   ]
  },
  {
   "cell_type": "markdown",
   "metadata": {},
   "source": [
    "What is the Maximum Likelihood Estimate?"
   ]
  },
  {
   "cell_type": "code",
   "execution_count": 62,
   "metadata": {},
   "outputs": [
    {
     "data": {
      "text/plain": [
       "0    0.14\n",
       "dtype: float64"
      ]
     },
     "execution_count": 62,
     "metadata": {},
     "output_type": "execute_result"
    }
   ],
   "source": [
    "#Calculamos la moda para saber cuál es el valor más común \n",
    "rounded = post.round(2)\n",
    "mode = rounded.mode()\n",
    "mode"
   ]
  },
  {
   "cell_type": "code",
   "execution_count": 65,
   "metadata": {},
   "outputs": [
    {
     "name": "stdout",
     "output_type": "stream",
     "text": [
      "0.125\n"
     ]
    }
   ],
   "source": [
    "#Yona, again: Calculamos la probabilidad de la moda calculada anteriormente\n",
    "rounded = post.round(2)\n",
    "mode = rounded.mode()[0]\n",
    "probability = list(rounded).count(mode)/len(rounded)\n",
    "print(probability)"
   ]
  },
  {
   "cell_type": "code",
   "execution_count": null,
   "metadata": {},
   "outputs": [],
   "source": []
  }
 ],
 "metadata": {
  "kernelspec": {
   "display_name": "Python 3",
   "language": "python",
   "name": "python3"
  },
  "language_info": {
   "codemirror_mode": {
    "name": "ipython",
    "version": 3
   },
   "file_extension": ".py",
   "mimetype": "text/x-python",
   "name": "python",
   "nbconvert_exporter": "python",
   "pygments_lexer": "ipython3",
   "version": "3.8.5"
  }
 },
 "nbformat": 4,
 "nbformat_minor": 2
}
